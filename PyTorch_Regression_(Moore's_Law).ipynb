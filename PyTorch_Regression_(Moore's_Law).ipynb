{
  "nbformat": 4,
  "nbformat_minor": 0,
  "metadata": {
    "colab": {
      "name": "PyTorch Regression (Moore's Law).ipynb",
      "provenance": [],
      "collapsed_sections": [],
      "include_colab_link": true
    },
    "kernelspec": {
      "name": "python3",
      "display_name": "Python 3"
    },
    "accelerator": "GPU"
  },
  "cells": [
    {
      "cell_type": "markdown",
      "metadata": {
        "id": "view-in-github",
        "colab_type": "text"
      },
      "source": [
        "<a href=\"https://colab.research.google.com/github/SKawsar/deep_learning_PyTorch/blob/main/PyTorch_Regression_(Moore's_Law).ipynb\" target=\"_parent\"><img src=\"https://colab.research.google.com/assets/colab-badge.svg\" alt=\"Open In Colab\"/></a>"
      ]
    },
    {
      "cell_type": "code",
      "metadata": {
        "id": "qsLqViekTo-d"
      },
      "source": [
        "import torch\n",
        "import torch.nn as nn\n",
        "import pandas as pd\n",
        "import numpy as np\n",
        "import matplotlib.pyplot as plt"
      ],
      "execution_count": null,
      "outputs": []
    },
    {
      "cell_type": "code",
      "metadata": {
        "id": "vjipHw9CZVmJ",
        "colab": {
          "base_uri": "https://localhost:8080/"
        },
        "outputId": "f366880d-2ac5-4deb-a417-ab2621b2dbcb"
      },
      "source": [
        "# Get the data\n",
        "!wget -nc https://raw.githubusercontent.com/lazyprogrammer/machine_learning_examples/master/tf2.0/moore.csv"
      ],
      "execution_count": null,
      "outputs": [
        {
          "output_type": "stream",
          "name": "stdout",
          "text": [
            "File ‘moore.csv’ already there; not retrieving.\n",
            "\n"
          ]
        }
      ]
    },
    {
      "cell_type": "code",
      "metadata": {
        "id": "JPNNOW5CZXd3",
        "colab": {
          "base_uri": "https://localhost:8080/"
        },
        "outputId": "ee6b6807-645b-46f0-819b-810492ca3aca"
      },
      "source": [
        "# Load in the data\n",
        "data = pd.read_csv('moore.csv', header=None).values\n",
        "print(type(data))\n",
        "\n",
        "X = data[:,0].reshape(-1, 1) # make it a 2-D array of size N x D where D = 1\n",
        "Y = data[:,1].reshape(-1, 1)\n",
        "\n",
        "print(X.shape)\n",
        "print(Y.shape)"
      ],
      "execution_count": null,
      "outputs": [
        {
          "output_type": "stream",
          "name": "stdout",
          "text": [
            "<class 'numpy.ndarray'>\n",
            "(162, 1)\n",
            "(162, 1)\n"
          ]
        }
      ]
    },
    {
      "cell_type": "code",
      "metadata": {
        "id": "1BuaVYUCZZhR",
        "colab": {
          "base_uri": "https://localhost:8080/",
          "height": 276
        },
        "outputId": "1d6a0832-97c4-4b13-b89b-c839c52efa75"
      },
      "source": [
        "# Plot the data - it is exponential!\n",
        "plt.scatter(X, Y)\n",
        "plt.ylabel(\"Population Size\")\n",
        "plt.show()"
      ],
      "execution_count": null,
      "outputs": [
        {
          "output_type": "display_data",
          "data": {
            "text/plain": [
              "<Figure size 432x288 with 1 Axes>"
            ],
            "image/png": "[encoded data removed]"
          },
          "metadata": {
            "needs_background": "light"
          }
        }
      ]
    },
    {
      "cell_type": "code",
      "metadata": {
        "id": "Sci4T76UZbct",
        "colab": {
          "base_uri": "https://localhost:8080/",
          "height": 282
        },
        "outputId": "ff0fe23b-6b99-4027-df11-14f7b6e0d225"
      },
      "source": [
        "# Since we want a linear model, let's take the log\n",
        "Y = np.log(Y)\n",
        "plt.scatter(X, Y)\n",
        "plt.ylabel(\"Log(Population Size)\")\n",
        "# that's better"
      ],
      "execution_count": null,
      "outputs": [
        {
          "output_type": "execute_result",
          "data": {
            "text/plain": [
              "Text(0, 0.5, 'Log(Population Size)')"
            ]
          },
          "metadata": {},
          "execution_count": 21
        },
        {
          "output_type": "display_data",
          "data": {
            "text/plain": [
              "<Figure size 432x288 with 1 Axes>"
            ],
            "image/png": "[encoded data removed]"
          },
          "metadata": {
            "needs_background": "light"
          }
        }
      ]
    },
    {
      "cell_type": "code",
      "metadata": {
        "id": "1B8sRXfGZeHj"
      },
      "source": [
        "# Scale and center both the x and y axes\n",
        "mx = X.mean()\n",
        "sx = X.std()\n",
        "my = Y.mean()\n",
        "sy = Y.std()\n",
        "X = (X - mx)/sx\n",
        "Y = (Y - my)/sy"
      ],
      "execution_count": null,
      "outputs": []
    },
    {
      "cell_type": "code",
      "metadata": {
        "id": "RD8HrPmexpCq",
        "colab": {
          "base_uri": "https://localhost:8080/",
          "height": 279
        },
        "outputId": "21249881-b33e-438f-cc8b-3003fd36805f"
      },
      "source": [
        "# Everything is centered and in a small range\n",
        "plt.scatter(X, Y)\n",
        "plt.xlabel(\"standardized X\")\n",
        "plt.ylabel(\"standardized log(Y)\")\n",
        "plt.show()"
      ],
      "execution_count": null,
      "outputs": [
        {
          "output_type": "display_data",
          "data": {
            "text/plain": [
              "<Figure size 432x288 with 1 Axes>"
            ],
            "image/png": "[encoded data removed]"
          },
          "metadata": {
            "needs_background": "light"
          }
        }
      ]
    },
    {
      "cell_type": "code",
      "metadata": {
        "id": "xw8Nc8QZb_wX"
      },
      "source": [
        "# Cast to float32\n",
        "X = X.astype(np.float32)\n",
        "Y = Y.astype(np.float32)\n",
        "\n",
        "inputs = torch.from_numpy(X)\n",
        "targets = torch.from_numpy(Y)"
      ],
      "execution_count": null,
      "outputs": []
    },
    {
      "cell_type": "markdown",
      "source": [
        "#### Build a Linear Regression Model using PyTorch"
      ],
      "metadata": {
        "id": "Uf_ZLAc-PnnJ"
      }
    },
    {
      "cell_type": "code",
      "metadata": {
        "id": "N2NcT0z5W1Um"
      },
      "source": [
        "# Create the linear regression model\n",
        "model = nn.Linear(1, 1)"
      ],
      "execution_count": null,
      "outputs": []
    },
    {
      "cell_type": "code",
      "metadata": {
        "id": "rvZW03cqW6SS"
      },
      "source": [
        "# Loss and optimizer\n",
        "criterion = nn.MSELoss()\n",
        "optimizer = torch.optim.SGD(model.parameters(), lr=0.01, momentum=0.7)"
      ],
      "execution_count": null,
      "outputs": []
    },
    {
      "cell_type": "markdown",
      "source": [
        "#### Train the model"
      ],
      "metadata": {
        "id": "6RFc4qSyPzvc"
      }
    },
    {
      "cell_type": "code",
      "metadata": {
        "id": "LnGJqtXSW_eV",
        "colab": {
          "base_uri": "https://localhost:8080/"
        },
        "outputId": "46d58be0-c3f7-4584-f331-5bc3bf1acc26"
      },
      "source": [
        "# Train the model\n",
        "n_epochs = 100\n",
        "losses = []\n",
        "for it in range(n_epochs):\n",
        "  # zero the parameter gradients\n",
        "  optimizer.zero_grad()\n",
        "\n",
        "  # Forward pass\n",
        "  outputs = model(inputs)\n",
        "  loss = criterion(outputs, targets)\n",
        "\n",
        "  # Record the loss\n",
        "  losses.append(loss.item())\n",
        "    \n",
        "  # Backward and optimize\n",
        "  loss.backward()\n",
        "  optimizer.step()\n",
        "    \n",
        "  print(f'Epoch {it+1}/{n_epochs}, Loss: {loss.item():.4f}')"
      ],
      "execution_count": null,
      "outputs": [
        {
          "output_type": "stream",
          "name": "stdout",
          "text": [
            "Epoch 1/100, Loss: 3.6111\n",
            "Epoch 2/100, Loss: 3.4697\n",
            "Epoch 3/100, Loss: 3.2384\n",
            "Epoch 4/100, Loss: 2.9578\n",
            "Epoch 5/100, Loss: 2.6573\n",
            "Epoch 6/100, Loss: 2.3570\n",
            "Epoch 7/100, Loss: 2.0699\n",
            "Epoch 8/100, Loss: 1.8037\n",
            "Epoch 9/100, Loss: 1.5622\n",
            "Epoch 10/100, Loss: 1.3466\n",
            "Epoch 11/100, Loss: 1.1566\n",
            "Epoch 12/100, Loss: 0.9907\n",
            "Epoch 13/100, Loss: 0.8470\n",
            "Epoch 14/100, Loss: 0.7234\n",
            "Epoch 15/100, Loss: 0.6174\n",
            "Epoch 16/100, Loss: 0.5271\n",
            "Epoch 17/100, Loss: 0.4502\n",
            "Epoch 18/100, Loss: 0.3851\n",
            "Epoch 19/100, Loss: 0.3300\n",
            "Epoch 20/100, Loss: 0.2834\n",
            "Epoch 21/100, Loss: 0.2442\n",
            "Epoch 22/100, Loss: 0.2111\n",
            "Epoch 23/100, Loss: 0.1833\n",
            "Epoch 24/100, Loss: 0.1599\n",
            "Epoch 25/100, Loss: 0.1403\n",
            "Epoch 26/100, Loss: 0.1238\n",
            "Epoch 27/100, Loss: 0.1100\n",
            "Epoch 28/100, Loss: 0.0984\n",
            "Epoch 29/100, Loss: 0.0886\n",
            "Epoch 30/100, Loss: 0.0805\n",
            "Epoch 31/100, Loss: 0.0737\n",
            "Epoch 32/100, Loss: 0.0679\n",
            "Epoch 33/100, Loss: 0.0631\n",
            "Epoch 34/100, Loss: 0.0591\n",
            "Epoch 35/100, Loss: 0.0558\n",
            "Epoch 36/100, Loss: 0.0529\n",
            "Epoch 37/100, Loss: 0.0506\n",
            "Epoch 38/100, Loss: 0.0486\n",
            "Epoch 39/100, Loss: 0.0470\n",
            "Epoch 40/100, Loss: 0.0456\n",
            "Epoch 41/100, Loss: 0.0444\n",
            "Epoch 42/100, Loss: 0.0435\n",
            "Epoch 43/100, Loss: 0.0426\n",
            "Epoch 44/100, Loss: 0.0420\n",
            "Epoch 45/100, Loss: 0.0414\n",
            "Epoch 46/100, Loss: 0.0409\n",
            "Epoch 47/100, Loss: 0.0405\n",
            "Epoch 48/100, Loss: 0.0402\n",
            "Epoch 49/100, Loss: 0.0399\n",
            "Epoch 50/100, Loss: 0.0397\n",
            "Epoch 51/100, Loss: 0.0395\n",
            "Epoch 52/100, Loss: 0.0393\n",
            "Epoch 53/100, Loss: 0.0392\n",
            "Epoch 54/100, Loss: 0.0391\n",
            "Epoch 55/100, Loss: 0.0390\n",
            "Epoch 56/100, Loss: 0.0389\n",
            "Epoch 57/100, Loss: 0.0388\n",
            "Epoch 58/100, Loss: 0.0388\n",
            "Epoch 59/100, Loss: 0.0387\n",
            "Epoch 60/100, Loss: 0.0387\n",
            "Epoch 61/100, Loss: 0.0386\n",
            "Epoch 62/100, Loss: 0.0386\n",
            "Epoch 63/100, Loss: 0.0386\n",
            "Epoch 64/100, Loss: 0.0386\n",
            "Epoch 65/100, Loss: 0.0386\n",
            "Epoch 66/100, Loss: 0.0385\n",
            "Epoch 67/100, Loss: 0.0385\n",
            "Epoch 68/100, Loss: 0.0385\n",
            "Epoch 69/100, Loss: 0.0385\n",
            "Epoch 70/100, Loss: 0.0385\n",
            "Epoch 71/100, Loss: 0.0385\n",
            "Epoch 72/100, Loss: 0.0385\n",
            "Epoch 73/100, Loss: 0.0385\n",
            "Epoch 74/100, Loss: 0.0385\n",
            "Epoch 75/100, Loss: 0.0385\n",
            "Epoch 76/100, Loss: 0.0385\n",
            "Epoch 77/100, Loss: 0.0385\n",
            "Epoch 78/100, Loss: 0.0385\n",
            "Epoch 79/100, Loss: 0.0385\n",
            "Epoch 80/100, Loss: 0.0385\n",
            "Epoch 81/100, Loss: 0.0385\n",
            "Epoch 82/100, Loss: 0.0385\n",
            "Epoch 83/100, Loss: 0.0385\n",
            "Epoch 84/100, Loss: 0.0385\n",
            "Epoch 85/100, Loss: 0.0385\n",
            "Epoch 86/100, Loss: 0.0385\n",
            "Epoch 87/100, Loss: 0.0385\n",
            "Epoch 88/100, Loss: 0.0385\n",
            "Epoch 89/100, Loss: 0.0385\n",
            "Epoch 90/100, Loss: 0.0385\n",
            "Epoch 91/100, Loss: 0.0385\n",
            "Epoch 92/100, Loss: 0.0385\n",
            "Epoch 93/100, Loss: 0.0385\n",
            "Epoch 94/100, Loss: 0.0385\n",
            "Epoch 95/100, Loss: 0.0385\n",
            "Epoch 96/100, Loss: 0.0385\n",
            "Epoch 97/100, Loss: 0.0385\n",
            "Epoch 98/100, Loss: 0.0385\n",
            "Epoch 99/100, Loss: 0.0385\n",
            "Epoch 100/100, Loss: 0.0385\n"
          ]
        }
      ]
    },
    {
      "cell_type": "code",
      "metadata": {
        "id": "paYvYiryo3ze",
        "colab": {
          "base_uri": "https://localhost:8080/",
          "height": 265
        },
        "outputId": "361f93ce-ed26-42f2-de70-6259c953cbb2"
      },
      "source": [
        "# Loss per iteration\n",
        "plt.plot(losses);"
      ],
      "execution_count": null,
      "outputs": [
        {
          "output_type": "display_data",
          "data": {
            "text/plain": [
              "<Figure size 432x288 with 1 Axes>"
            ],
            "image/png": "[encoded data removed]"
          },
          "metadata": {
            "needs_background": "light"
          }
        }
      ]
    },
    {
      "cell_type": "code",
      "metadata": {
        "id": "cQcBiTDSbjRr",
        "colab": {
          "base_uri": "https://localhost:8080/",
          "height": 265
        },
        "outputId": "a78afa77-b5f6-4d4e-e680-ba8878949164"
      },
      "source": [
        "# Plot the graph\n",
        "predicted = model(torch.from_numpy(X)).detach().numpy()\n",
        "plt.plot(X, Y, 'ro', label='Original data')\n",
        "plt.plot(X, predicted, label='Fitted line')\n",
        "plt.legend()\n",
        "plt.show()"
      ],
      "execution_count": null,
      "outputs": [
        {
          "output_type": "display_data",
          "data": {
            "text/plain": [
              "<Figure size 432x288 with 1 Axes>"
            ],
            "image/png": "[encoded data removed]"
          },
          "metadata": {
            "needs_background": "light"
          }
        }
      ]
    },
    {
      "cell_type": "code",
      "metadata": {
        "id": "HyWDprSQP5ON",
        "colab": {
          "base_uri": "https://localhost:8080/"
        },
        "outputId": "eac239a5-8117-4a57-c03f-59dcbb6576cc"
      },
      "source": [
        "# What does this mean?\n",
        "w = model.weight.data.numpy()\n",
        "print(w)"
      ],
      "execution_count": null,
      "outputs": [
        {
          "output_type": "stream",
          "name": "stdout",
          "text": [
            "[[0.98020536]]\n"
          ]
        }
      ]
    },
    {
      "cell_type": "markdown",
      "metadata": {
        "id": "4nIzvQF5MePe"
      },
      "source": [
        "# Transforming back to original scale\n",
        "\n",
        "Our original hypothesis is that the growth is exponential. This has the form:\n",
        "\n",
        "$$ C = C_0 r ^ t $$\n",
        "\n",
        "In this equation, $C$ is the transistor count, $t$ is the year, $C_0$ is the original transistor count at year $0$, and $r$ is the rate of growth.\n",
        "\n",
        "We made this equation linear by taking the log of both sides.\n",
        "\n",
        "$$ \\log C = \\log C_0 + \\log r * t $$\n",
        "\n",
        "Here, $\\log C$ represents the variable that goes along the y-axis, and $t$ represents the variable that goes along the x-axis.\n",
        "\n",
        "In other words, under our hypothesized model, the log of transistor counts is linear with respect to time.\n",
        "\n",
        "Let us rename the variables to a more familiar form:\n",
        "\n",
        "$$ y = a x + \\log C_0 $$\n",
        "\n",
        "Now $y=\\log C$ represents the log of transistor counts and $x=t$ represents time. $a = \\log r$ is the slope and $\\log C_0$ is the y-intercept.\n",
        "\n",
        "# Our Model\n",
        "\n",
        "We normalized the data as follows:\n",
        "\n",
        "$$ y' = \\frac{y - m_y}{s_y} $$\n",
        "\n",
        "$$ x' = \\frac{x - m_x}{s_x} $$\n",
        "\n",
        "Here, $m_x$ represents the sample mean of the $x$ data and $s_x$ represens the sample standard deviation of the $x$ data, with analogous definitions for $m_y$ and $s_y$.\n",
        "\n",
        "Our model looks like:\n",
        "\n",
        "$$ y' = wx' + b $$\n",
        "\n",
        "We can recover the original model by substituting $x'$ and $y'$ with corresponding expressions in terms of $x$ and $y$.\n",
        "\n",
        "$$ \\frac{y - m_y}{s_y} = w \\frac{x - m_x}{s_x} + b $$\n",
        "\n",
        "After some algebraic manipulation (try it yourself, it's only high school math), we get:\n",
        "\n",
        "$$ y = w \\frac{s_y}{s_x} x - w \\frac{s_y}{s_x} m_x + b s_y + m_y = a x + \\log C_0 $$\n",
        "\n",
        "It is clear that the coefficient in front of $x$ represents our original $a$, and the sum of all the other terms represents $\\log C_0$.\n",
        "\n",
        "We are only interested in the doubling time, so we have found that:\n",
        "\n",
        "$$ a = w \\frac{s_y}{s_x} $$"
      ]
    },
    {
      "cell_type": "code",
      "metadata": {
        "id": "J4aVPrKZJ_U3",
        "colab": {
          "base_uri": "https://localhost:8080/"
        },
        "outputId": "49dafeeb-0909-4f2e-a8e9-c45cfd847201"
      },
      "source": [
        "a = w[0,0] * sy / sx\n",
        "print(a)"
      ],
      "execution_count": null,
      "outputs": [
        {
          "output_type": "stream",
          "name": "stdout",
          "text": [
            "0.3415550352973528\n"
          ]
        }
      ]
    },
    {
      "cell_type": "markdown",
      "metadata": {
        "id": "IfU4yeZBO4LK"
      },
      "source": [
        "# Exponential Growth Model\n",
        "\n",
        "Our equation is currently linear. We still need to find the doubling time.\n",
        "\n",
        "Our original model for exponential growth is:\n",
        "\n",
        "$$ C = C_0 r^t $$\n",
        "\n",
        "Where $ C $ is transistor the count and $ t $ is the year.\n",
        "\n",
        "$ r $ is the rate of growth. For example, when $ t $ goes from 1 to 2, $ C $ increases by a factor of $ r $. When $ t $ goes from 2 to 3, $ C $ increases by a factor of $ r $ again.\n",
        "\n",
        "When we take the log of both sides, we get:\n",
        "\n",
        "$$ \\log C = \\log r * t + \\log C_0 $$\n",
        "\n",
        "This is our linear equation:\n",
        "\n",
        "$$ y = ax + \\log C_0 $$\n",
        "\n",
        "Where:\n",
        "\n",
        "$$ y = \\log C $$\n",
        "$$ a = \\log r $$\n",
        "$$ x = t $$\n",
        "\n",
        "We are interested in $ r $, because that's the rate of growth. Given our regression weights, we know that:\n",
        "\n",
        "$$ a = 0.341659983 $$\n",
        "\n",
        "so that:\n",
        "\n",
        "$$ r = e^{0.341659983} = 1.40728 $$\n",
        "\n",
        "To find the time it takes for transistor count to double, we simply need to find the amount of time it takes for $ C $ to increase to $ 2C $.\n",
        "\n",
        "Let's call the original starting time $ t $, to correspond with the initial transistor count $ C $.\n",
        "\n",
        "Let's call the end time $ t' $, to correspond with the final transistor count $ 2C $.\n",
        "\n",
        "Then we also have:\n",
        "\n",
        "$$ 2C = C_0 r ^ {t'} $$\n",
        "\n",
        "Combine this with our original equation:\n",
        "\n",
        "$$ C = C_0 r^t $$\n",
        "\n",
        "We get (by dividing the 2 equations):\n",
        "\n",
        "$$ 2C/C = (C_0 r ^ {t'}) / C_0 r^t $$\n",
        "\n",
        "Which simplifies to:\n",
        "\n",
        "$$ 2 = r^{(t' - t)} $$\n",
        "\n",
        "Solve for $ t' - t $:\n",
        "\n",
        "$$ t' - t = \\frac{\\log 2}{\\log r} = \\frac{\\log2}{a}$$\n",
        "\n",
        "\n",
        "Important note! We haven't specified what the starting time $ t $ actually is, and we don't have to since we just proved that this holds for any $ t $."
      ]
    },
    {
      "cell_type": "code",
      "metadata": {
        "id": "wLu3cW34LzHH",
        "colab": {
          "base_uri": "https://localhost:8080/"
        },
        "outputId": "b421bfe2-30aa-4a3d-9bf1-86a0228514ec"
      },
      "source": [
        "print(\"Time to double:\", np.log(2) / a)"
      ],
      "execution_count": null,
      "outputs": [
        {
          "output_type": "stream",
          "name": "stdout",
          "text": [
            "Time to double: 2.0293865085505223\n"
          ]
        }
      ]
    }
  ]
}