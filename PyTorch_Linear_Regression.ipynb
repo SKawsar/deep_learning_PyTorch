{
  "nbformat": 4,
  "nbformat_minor": 0,
  "metadata": {
    "colab": {
      "name": "PyTorch Linear Regression.ipynb",
      "provenance": [],
      "collapsed_sections": [],
      "include_colab_link": true
    },
    "kernelspec": {
      "name": "python3",
      "display_name": "Python 3"
    },
    "accelerator": "GPU"
  },
  "cells": [
    {
      "cell_type": "markdown",
      "metadata": {
        "id": "view-in-github",
        "colab_type": "text"
      },
      "source": [
        "<a href=\"https://colab.research.google.com/github/SKawsar/deep_learning_PyTorch/blob/main/PyTorch_Linear_Regression.ipynb\" target=\"_parent\"><img src=\"https://colab.research.google.com/assets/colab-badge.svg\" alt=\"Open In Colab\"/></a>"
      ]
    },
    {
      "cell_type": "code",
      "metadata": {
        "id": "qsLqViekTo-d"
      },
      "source": [
        "import torch\n",
        "import torch.nn as nn\n",
        "import numpy as np\n",
        "import matplotlib.pyplot as plt"
      ],
      "execution_count": 20,
      "outputs": []
    },
    {
      "cell_type": "code",
      "metadata": {
        "id": "JPNNOW5CZXd3",
        "colab": {
          "base_uri": "https://localhost:8080/"
        },
        "outputId": "379aa235-4814-4228-a9d1-9ebbe2ef8496"
      },
      "source": [
        "# we would like to generate 20 data points\n",
        "N = 20\n",
        "\n",
        "# random data on the x-axis in (-5, +5)\n",
        "X = np.random.random(N)*10 - 5\n",
        "\n",
        "# a line plus some noise\n",
        "Y = 0.5 * X - 1 + np.random.randn(N)\n",
        "\n",
        "print(X.shape)\n",
        "print(Y.shape)"
      ],
      "execution_count": 21,
      "outputs": [
        {
          "output_type": "stream",
          "name": "stdout",
          "text": [
            "(20,)\n",
            "(20,)\n"
          ]
        }
      ]
    },
    {
      "cell_type": "code",
      "metadata": {
        "id": "1BuaVYUCZZhR",
        "outputId": "a07a5832-d31d-48a3-b049-b276afb64397",
        "colab": {
          "base_uri": "https://localhost:8080/",
          "height": 279
        }
      },
      "source": [
        "# Plot the data\n",
        "plt.scatter(X, Y)\n",
        "plt.xlabel(\"X\")\n",
        "plt.ylabel(\"Y\")\n",
        "plt.show()"
      ],
      "execution_count": 22,
      "outputs": [
        {
          "output_type": "display_data",
          "data": {
            "text/plain": [
              "<Figure size 432x288 with 1 Axes>"
            ],
            "image/png": "[encoded data removed]"
          },
          "metadata": {
            "needs_background": "light"
          }
        }
      ]
    },
    {
      "cell_type": "markdown",
      "source": [
        "#### Build a Linear Regression Model using PyTorch"
      ],
      "metadata": {
        "id": "Q4150Y7XIkgk"
      }
    },
    {
      "cell_type": "code",
      "metadata": {
        "id": "N2NcT0z5W1Um"
      },
      "source": [
        "# Create the linear regression model\n",
        "# nn.Linear(input, output)\n",
        "model = nn.Linear(1, 1)"
      ],
      "execution_count": 23,
      "outputs": []
    },
    {
      "cell_type": "code",
      "metadata": {
        "id": "rvZW03cqW6SS"
      },
      "source": [
        "# Loss and optimizer\n",
        "criterion = nn.MSELoss()\n",
        "\n",
        "# SGD: Stochastic Gradient Descent\n",
        "optimizer = torch.optim.SGD(model.parameters(), lr=0.05)"
      ],
      "execution_count": 24,
      "outputs": []
    },
    {
      "cell_type": "code",
      "metadata": {
        "id": "vPrBVibsaWoj",
        "colab": {
          "base_uri": "https://localhost:8080/"
        },
        "outputId": "3a002690-9cfb-44c9-eb64-6610b2ec5571"
      },
      "source": [
        "# In ML we want our data to be of shape:\n",
        "# (num_samples x num_dimensions)\n",
        "X = X.reshape(N, 1)\n",
        "Y = Y.reshape(N, 1)\n",
        "\n",
        "# PyTorch uses float32 by default\n",
        "# Numpy creates float64 by default\n",
        "inputs = torch.from_numpy(X.astype(np.float32))\n",
        "targets = torch.from_numpy(Y.astype(np.float32))\n",
        "\n",
        "print(inputs.shape)\n",
        "print(targets.shape)"
      ],
      "execution_count": 25,
      "outputs": [
        {
          "output_type": "stream",
          "name": "stdout",
          "text": [
            "torch.Size([20, 1])\n",
            "torch.Size([20, 1])\n"
          ]
        }
      ]
    },
    {
      "cell_type": "code",
      "metadata": {
        "id": "5Zd0PFWBaanm",
        "outputId": "aa519b03-ccbc-4447-a205-4898b484bd76",
        "colab": {
          "base_uri": "https://localhost:8080/"
        }
      },
      "source": [
        "type(inputs)"
      ],
      "execution_count": 26,
      "outputs": [
        {
          "output_type": "execute_result",
          "data": {
            "text/plain": [
              "torch.Tensor"
            ]
          },
          "metadata": {},
          "execution_count": 26
        }
      ]
    },
    {
      "cell_type": "markdown",
      "source": [
        "#### Train the model"
      ],
      "metadata": {
        "id": "v4iuW25eItwp"
      }
    },
    {
      "cell_type": "code",
      "metadata": {
        "id": "LnGJqtXSW_eV",
        "outputId": "8fba4b5c-8ffc-4561-8249-41fe246a919d",
        "colab": {
          "base_uri": "https://localhost:8080/"
        }
      },
      "source": [
        "# Train the model\n",
        "n_epochs = 30\n",
        "losses = []\n",
        "for it in range(n_epochs):\n",
        "\n",
        "  # zero the parameter gradients\n",
        "  # internally PyTorch accumulates gradients when we call backward()\n",
        "  optimizer.zero_grad()\n",
        "\n",
        "  # Forward pass\n",
        "  outputs = model(inputs)\n",
        "  loss = criterion(outputs, targets)\n",
        "\n",
        "  # keep the loss so we can plot it later\n",
        "  losses.append(loss.item())\n",
        "    \n",
        "  # Backward and optimize\n",
        "  # Calculating the gradients\n",
        "  loss.backward()\n",
        "  optimizer.step()\n",
        "    \n",
        "  print(f'Epoch {it+1}/{n_epochs}, Loss: {loss.item():.4f}')"
      ],
      "execution_count": 27,
      "outputs": [
        {
          "output_type": "stream",
          "name": "stdout",
          "text": [
            "Epoch 1/30, Loss: 9.9587\n",
            "Epoch 2/30, Loss: 4.6067\n",
            "Epoch 3/30, Loss: 3.4569\n",
            "Epoch 4/30, Loss: 2.9876\n",
            "Epoch 5/30, Loss: 2.6705\n",
            "Epoch 6/30, Loss: 2.4190\n",
            "Epoch 7/30, Loss: 2.2128\n",
            "Epoch 8/30, Loss: 2.0428\n",
            "Epoch 9/30, Loss: 1.9024\n",
            "Epoch 10/30, Loss: 1.7865\n",
            "Epoch 11/30, Loss: 1.6908\n",
            "Epoch 12/30, Loss: 1.6117\n",
            "Epoch 13/30, Loss: 1.5465\n",
            "Epoch 14/30, Loss: 1.4926\n",
            "Epoch 15/30, Loss: 1.4481\n",
            "Epoch 16/30, Loss: 1.4113\n",
            "Epoch 17/30, Loss: 1.3810\n",
            "Epoch 18/30, Loss: 1.3559\n",
            "Epoch 19/30, Loss: 1.3352\n",
            "Epoch 20/30, Loss: 1.3181\n",
            "Epoch 21/30, Loss: 1.3040\n",
            "Epoch 22/30, Loss: 1.2924\n",
            "Epoch 23/30, Loss: 1.2827\n",
            "Epoch 24/30, Loss: 1.2748\n",
            "Epoch 25/30, Loss: 1.2682\n",
            "Epoch 26/30, Loss: 1.2628\n",
            "Epoch 27/30, Loss: 1.2583\n",
            "Epoch 28/30, Loss: 1.2546\n",
            "Epoch 29/30, Loss: 1.2516\n",
            "Epoch 30/30, Loss: 1.2491\n"
          ]
        }
      ]
    },
    {
      "cell_type": "code",
      "metadata": {
        "id": "TtlOBCCyxSda",
        "outputId": "4f8ce216-c2da-4747-91f7-d56e817723d9",
        "colab": {
          "base_uri": "https://localhost:8080/",
          "height": 265
        }
      },
      "source": [
        "# Plot the loss per iteration\n",
        "plt.plot(losses);"
      ],
      "execution_count": 28,
      "outputs": [
        {
          "output_type": "display_data",
          "data": {
            "text/plain": [
              "<Figure size 432x288 with 1 Axes>"
            ],
            "image/png": "[encoded data removed]"
          },
          "metadata": {
            "needs_background": "light"
          }
        }
      ]
    },
    {
      "cell_type": "markdown",
      "source": [
        "#### Make Prediction"
      ],
      "metadata": {
        "id": "jjvlHvFuIyN9"
      }
    },
    {
      "cell_type": "code",
      "metadata": {
        "id": "cQcBiTDSbjRr",
        "outputId": "86aaeb56-c5d9-4a38-f48b-4db8096a2921",
        "colab": {
          "base_uri": "https://localhost:8080/",
          "height": 279
        }
      },
      "source": [
        "# Plot the graph\n",
        "predicted = model(inputs).detach().numpy()\n",
        "plt.scatter(X, Y, label='Original data')\n",
        "plt.plot(X, predicted, label='Fitted line')\n",
        "plt.xlabel(\"X\")\n",
        "plt.ylabel(\"Y\")\n",
        "plt.legend()\n",
        "plt.show()"
      ],
      "execution_count": 29,
      "outputs": [
        {
          "output_type": "display_data",
          "data": {
            "text/plain": [
              "<Figure size 432x288 with 1 Axes>"
            ],
            "image/png": "[encoded data removed]"
          },
          "metadata": {
            "needs_background": "light"
          }
        }
      ]
    },
    {
      "cell_type": "code",
      "metadata": {
        "id": "2fewYK_fkRpe"
      },
      "source": [
        "# Error!\n",
        "# model(inputs).numpy()"
      ],
      "execution_count": 30,
      "outputs": []
    },
    {
      "cell_type": "code",
      "metadata": {
        "id": "4U2GDt2Ck6cB",
        "colab": {
          "base_uri": "https://localhost:8080/"
        },
        "outputId": "c70090df-3d72-462f-b307-c316f53ddaf5"
      },
      "source": [
        "# Another way\n",
        "with torch.no_grad():\n",
        "  out = model(inputs).numpy()\n",
        "print(out)"
      ],
      "execution_count": 31,
      "outputs": [
        {
          "output_type": "stream",
          "name": "stdout",
          "text": [
            "[[-2.5085979 ]\n",
            " [ 0.37599427]\n",
            " [-0.70855355]\n",
            " [-1.4321737 ]\n",
            " [ 0.0093565 ]\n",
            " [-1.8078059 ]\n",
            " [ 1.6304998 ]\n",
            " [ 1.4083831 ]\n",
            " [ 1.2791159 ]\n",
            " [-0.45319554]\n",
            " [-1.7533314 ]\n",
            " [-0.09340113]\n",
            " [-1.1213524 ]\n",
            " [-2.8755834 ]\n",
            " [ 0.6827411 ]\n",
            " [-0.28915334]\n",
            " [-0.7766861 ]\n",
            " [-1.5609939 ]\n",
            " [-1.0776318 ]\n",
            " [ 0.58030957]]\n"
          ]
        }
      ]
    },
    {
      "cell_type": "code",
      "metadata": {
        "id": "HyWDprSQP5ON",
        "colab": {
          "base_uri": "https://localhost:8080/"
        },
        "outputId": "fb7e84d8-966b-44e6-855d-90301318b9ad"
      },
      "source": [
        "# Important!\n",
        "# In order to test the efficacy of our model, synthetic data is useful\n",
        "# Why?\n",
        "# Because ***we know the answer***\n",
        "# True values of (w, b) are (0.5, -1)\n",
        "w = model.weight.data.numpy()\n",
        "b = model.bias.data.numpy()\n",
        "print(w, b)"
      ],
      "execution_count": 32,
      "outputs": [
        {
          "output_type": "stream",
          "name": "stdout",
          "text": [
            "[[0.5241152]] [-0.8764853]\n"
          ]
        }
      ]
    },
    {
      "cell_type": "code",
      "source": [
        ""
      ],
      "metadata": {
        "id": "oSSb0WZRH77T"
      },
      "execution_count": 32,
      "outputs": []
    }
  ]
}