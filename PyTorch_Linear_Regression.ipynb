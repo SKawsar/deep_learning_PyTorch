{
  "nbformat": 4,
  "nbformat_minor": 0,
  "metadata": {
    "colab": {
      "name": "PyTorch Linear Regression.ipynb",
      "provenance": [],
      "collapsed_sections": [],
      "include_colab_link": true
    },
    "kernelspec": {
      "name": "python3",
      "display_name": "Python 3"
    },
    "accelerator": "GPU"
  },
  "cells": [
    {
      "cell_type": "markdown",
      "metadata": {
        "id": "view-in-github",
        "colab_type": "text"
      },
      "source": [
        "<a href=\"https://colab.research.google.com/github/SKawsar/deep_learning_PyTorch/blob/main/PyTorch_Linear_Regression.ipynb\" target=\"_parent\"><img src=\"https://colab.research.google.com/assets/colab-badge.svg\" alt=\"Open In Colab\"/></a>"
      ]
    },
    {
      "cell_type": "code",
      "metadata": {
        "id": "qsLqViekTo-d"
      },
      "source": [
        "import torch\n",
        "import torch.nn as nn\n",
        "import numpy as np\n",
        "import matplotlib.pyplot as plt"
      ],
      "execution_count": 1,
      "outputs": []
    },
    {
      "cell_type": "code",
      "metadata": {
        "id": "JPNNOW5CZXd3",
        "colab": {
          "base_uri": "https://localhost:8080/"
        },
        "outputId": "ed207bb3-1f41-4c64-ab87-dab2fc449748"
      },
      "source": [
        "# we would like to generate 20 data points\n",
        "N = 20\n",
        "\n",
        "# random data on the x-axis in (-5, +5)\n",
        "X = np.random.random(N)*10 - 5\n",
        "\n",
        "# a line plus some noise\n",
        "Y = 0.5 * X - 1 + np.random.randn(N)\n",
        "\n",
        "print(X.shape)\n",
        "print(Y.shape)"
      ],
      "execution_count": 2,
      "outputs": [
        {
          "output_type": "stream",
          "name": "stdout",
          "text": [
            "(20,)\n",
            "(20,)\n"
          ]
        }
      ]
    },
    {
      "cell_type": "code",
      "metadata": {
        "id": "1BuaVYUCZZhR",
        "outputId": "1066d00b-479f-4440-db1e-07250714ed9f",
        "colab": {
          "base_uri": "https://localhost:8080/",
          "height": 282
        }
      },
      "source": [
        "# Plot the data\n",
        "plt.scatter(X, Y)\n",
        "plt.xlabel(\"X\")\n",
        "plt.ylabel(\"Y\")\n",
        "plt.show()"
      ],
      "execution_count": 3,
      "outputs": [
        {
          "output_type": "display_data",
          "data": {
            "text/plain": [
              "<Figure size 432x288 with 1 Axes>"
            ],
            "image/png": "[encoded data removed]"
          },
          "metadata": {
            "needs_background": "light"
          }
        }
      ]
    },
    {
      "cell_type": "markdown",
      "source": [
        "#### Build a Linear Regression Model using PyTorch"
      ],
      "metadata": {
        "id": "Q4150Y7XIkgk"
      }
    },
    {
      "cell_type": "code",
      "metadata": {
        "id": "N2NcT0z5W1Um"
      },
      "source": [
        "# Create the linear regression model\n",
        "# nn.Linear(input, output)\n",
        "model = nn.Linear(1, 1)"
      ],
      "execution_count": 4,
      "outputs": []
    },
    {
      "cell_type": "code",
      "metadata": {
        "id": "rvZW03cqW6SS"
      },
      "source": [
        "# Loss and optimizer\n",
        "criterion = nn.MSELoss()\n",
        "\n",
        "# SGD: Stochastic Gradient Descent\n",
        "optimizer = torch.optim.SGD(model.parameters(), lr=0.05)"
      ],
      "execution_count": 5,
      "outputs": []
    },
    {
      "cell_type": "code",
      "metadata": {
        "id": "vPrBVibsaWoj",
        "colab": {
          "base_uri": "https://localhost:8080/"
        },
        "outputId": "8154b9fb-d67b-4a07-90fd-7bfeeec9de13"
      },
      "source": [
        "# In ML we want our data to be of shape:\n",
        "# (num_samples x num_dimensions)\n",
        "X = X.reshape(N, 1)\n",
        "Y = Y.reshape(N, 1)\n",
        "\n",
        "# PyTorch uses float32 by default\n",
        "# Numpy creates float64 by default\n",
        "inputs = torch.from_numpy(X.astype(np.float32))\n",
        "targets = torch.from_numpy(Y.astype(np.float32))\n",
        "\n",
        "print(inputs.shape)\n",
        "print(targets.shape)"
      ],
      "execution_count": 6,
      "outputs": [
        {
          "output_type": "stream",
          "name": "stdout",
          "text": [
            "torch.Size([20, 1])\n",
            "torch.Size([20, 1])\n"
          ]
        }
      ]
    },
    {
      "cell_type": "code",
      "metadata": {
        "id": "5Zd0PFWBaanm",
        "outputId": "f77cf35d-499e-4164-b170-105143d935d7",
        "colab": {
          "base_uri": "https://localhost:8080/"
        }
      },
      "source": [
        "type(inputs)"
      ],
      "execution_count": 7,
      "outputs": [
        {
          "output_type": "execute_result",
          "data": {
            "text/plain": [
              "torch.Tensor"
            ]
          },
          "metadata": {},
          "execution_count": 7
        }
      ]
    },
    {
      "cell_type": "markdown",
      "source": [
        "#### Train the model"
      ],
      "metadata": {
        "id": "v4iuW25eItwp"
      }
    },
    {
      "cell_type": "code",
      "metadata": {
        "id": "LnGJqtXSW_eV",
        "outputId": "b52adf87-a263-400c-c637-d6ee0f372a61",
        "colab": {
          "base_uri": "https://localhost:8080/"
        }
      },
      "source": [
        "# Train the model\n",
        "n_epochs = 30\n",
        "losses = []\n",
        "for it in range(n_epochs):\n",
        "\n",
        "  # zero the parameter gradients\n",
        "  # internally PyTorch accumulates gradients when we call backward()\n",
        "  optimizer.zero_grad()\n",
        "\n",
        "  # Forward pass\n",
        "  outputs = model(inputs)\n",
        "  loss = criterion(outputs, targets)\n",
        "\n",
        "  # keep the loss so we can plot it later\n",
        "  losses.append(loss.item())\n",
        "    \n",
        "  # Backward and optimize\n",
        "  # Calculating the gradients\n",
        "  loss.backward()\n",
        "  optimizer.step()\n",
        "    \n",
        "  print(f'Epoch {it+1}/{n_epochs}, Loss: {loss.item():.4f}')"
      ],
      "execution_count": 8,
      "outputs": [
        {
          "output_type": "stream",
          "name": "stdout",
          "text": [
            "Epoch 1/30, Loss: 5.9857\n",
            "Epoch 2/30, Loss: 2.6523\n",
            "Epoch 3/30, Loss: 2.2741\n",
            "Epoch 4/30, Loss: 2.0481\n",
            "Epoch 5/30, Loss: 1.8653\n",
            "Epoch 6/30, Loss: 1.7149\n",
            "Epoch 7/30, Loss: 1.5912\n",
            "Epoch 8/30, Loss: 1.4893\n",
            "Epoch 9/30, Loss: 1.4055\n",
            "Epoch 10/30, Loss: 1.3365\n",
            "Epoch 11/30, Loss: 1.2798\n",
            "Epoch 12/30, Loss: 1.2331\n",
            "Epoch 13/30, Loss: 1.1946\n",
            "Epoch 14/30, Loss: 1.1630\n",
            "Epoch 15/30, Loss: 1.1370\n",
            "Epoch 16/30, Loss: 1.1155\n",
            "Epoch 17/30, Loss: 1.0979\n",
            "Epoch 18/30, Loss: 1.0834\n",
            "Epoch 19/30, Loss: 1.0715\n",
            "Epoch 20/30, Loss: 1.0616\n",
            "Epoch 21/30, Loss: 1.0536\n",
            "Epoch 22/30, Loss: 1.0469\n",
            "Epoch 23/30, Loss: 1.0414\n",
            "Epoch 24/30, Loss: 1.0369\n",
            "Epoch 25/30, Loss: 1.0332\n",
            "Epoch 26/30, Loss: 1.0302\n",
            "Epoch 27/30, Loss: 1.0276\n",
            "Epoch 28/30, Loss: 1.0256\n",
            "Epoch 29/30, Loss: 1.0239\n",
            "Epoch 30/30, Loss: 1.0225\n"
          ]
        }
      ]
    },
    {
      "cell_type": "code",
      "metadata": {
        "id": "TtlOBCCyxSda",
        "outputId": "ead14912-9e60-4c23-a79c-2e953ae52134",
        "colab": {
          "base_uri": "https://localhost:8080/",
          "height": 296
        }
      },
      "source": [
        "# Plot the loss per iteration\n",
        "plt.plot(losses)\n",
        "plt.xlabel(\"number of epochs\")\n",
        "plt.ylabel(\"MSE\")"
      ],
      "execution_count": 9,
      "outputs": [
        {
          "output_type": "execute_result",
          "data": {
            "text/plain": [
              "Text(0, 0.5, 'MSE')"
            ]
          },
          "metadata": {},
          "execution_count": 9
        },
        {
          "output_type": "display_data",
          "data": {
            "text/plain": [
              "<Figure size 432x288 with 1 Axes>"
            ],
            "image/png": "[encoded data removed]"
          },
          "metadata": {
            "needs_background": "light"
          }
        }
      ]
    },
    {
      "cell_type": "markdown",
      "source": [
        "#### Make Prediction"
      ],
      "metadata": {
        "id": "jjvlHvFuIyN9"
      }
    },
    {
      "cell_type": "code",
      "metadata": {
        "id": "cQcBiTDSbjRr",
        "outputId": "3eb7d9b1-e884-4345-c537-866ea64eb2aa",
        "colab": {
          "base_uri": "https://localhost:8080/",
          "height": 282
        }
      },
      "source": [
        "# Plot the graph\n",
        "predicted = model(inputs).detach().numpy()\n",
        "plt.scatter(X, Y, label='Original data')\n",
        "plt.plot(X, predicted, label='Fitted line')\n",
        "plt.xlabel(\"X\")\n",
        "plt.ylabel(\"Y\")\n",
        "plt.legend()\n",
        "plt.show()"
      ],
      "execution_count": 10,
      "outputs": [
        {
          "output_type": "display_data",
          "data": {
            "text/plain": [
              "<Figure size 432x288 with 1 Axes>"
            ],
            "image/png": "[encoded data removed]"
          },
          "metadata": {
            "needs_background": "light"
          }
        }
      ]
    },
    {
      "cell_type": "code",
      "metadata": {
        "id": "2fewYK_fkRpe"
      },
      "source": [
        "# Error!\n",
        "# model(inputs).numpy()"
      ],
      "execution_count": 11,
      "outputs": []
    },
    {
      "cell_type": "code",
      "metadata": {
        "id": "4U2GDt2Ck6cB",
        "colab": {
          "base_uri": "https://localhost:8080/"
        },
        "outputId": "cd5dcff6-b3f1-46bc-c3c3-0e53a36eaeac"
      },
      "source": [
        "# Another way\n",
        "with torch.no_grad():\n",
        "  out = model(inputs).numpy()\n",
        "print(out)"
      ],
      "execution_count": 12,
      "outputs": [
        {
          "output_type": "stream",
          "name": "stdout",
          "text": [
            "[[-0.5727323 ]\n",
            " [ 0.46842754]\n",
            " [-2.6338363 ]\n",
            " [-3.8697155 ]\n",
            " [-2.3537874 ]\n",
            " [-2.5258055 ]\n",
            " [-0.35165077]\n",
            " [ 2.0933063 ]\n",
            " [ 1.3979504 ]\n",
            " [-0.9373096 ]\n",
            " [-1.920919  ]\n",
            " [ 1.8222792 ]\n",
            " [-2.481235  ]\n",
            " [-2.435112  ]\n",
            " [-2.0327678 ]\n",
            " [-0.26804167]\n",
            " [-2.8062503 ]\n",
            " [ 0.313527  ]\n",
            " [-3.624236  ]\n",
            " [-1.0802399 ]]\n"
          ]
        }
      ]
    },
    {
      "cell_type": "code",
      "metadata": {
        "id": "HyWDprSQP5ON",
        "colab": {
          "base_uri": "https://localhost:8080/"
        },
        "outputId": "9d0701db-798f-4bf9-c7ed-2f0983b30583"
      },
      "source": [
        "# True values of (w, b) are (0.5, -1)\n",
        "w = model.weight.data.numpy()\n",
        "b = model.bias.data.numpy()\n",
        "print(w, b)"
      ],
      "execution_count": 13,
      "outputs": [
        {
          "output_type": "stream",
          "name": "stdout",
          "text": [
            "[[0.6261959]] [-0.74315715]\n"
          ]
        }
      ]
    }
  ]
}