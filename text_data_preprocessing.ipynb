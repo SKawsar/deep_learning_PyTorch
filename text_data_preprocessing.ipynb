{
 "cells": [
  {
   "cell_type": "code",
   "execution_count": 67,
   "outputs": [
    {
     "name": "stderr",
     "output_type": "stream",
     "text": [
      "[nltk_data] Downloading package stopwords to\n",
      "[nltk_data]     /Users/kawsar/nltk_data...\n",
      "[nltk_data]   Package stopwords is already up-to-date!\n"
     ]
    }
   ],
   "source": [
    "# Import the necessary functions\n",
    "from torchtext.data.utils import get_tokenizer\n",
    "from nltk.probability import FreqDist\n",
    "import nltk\n",
    "nltk.download('stopwords')\n",
    "from nltk.corpus import stopwords\n",
    "from nltk.stem import PorterStemmer\n",
    "import torch"
   ],
   "metadata": {
    "collapsed": false,
    "ExecuteTime": {
     "end_time": "2023-11-07T00:27:27.483253Z",
     "start_time": "2023-11-07T00:27:27.461151Z"
    }
   },
   "id": "153e5e9e38b734b1"
  },
  {
   "cell_type": "code",
   "execution_count": 62,
   "outputs": [
    {
     "name": "stdout",
     "output_type": "stream",
     "text": [
      "['i', 'am', 'reading', 'a', 'book', 'now', '.', 'i', 'love', 'to', 'read', 'books', '!']\n"
     ]
    }
   ],
   "source": [
    "tokenizer = get_tokenizer(\"basic_english\")\n",
    "tokens = tokenizer(\"I am reading a book now. I love to read books!\")\n",
    "print(tokens)"
   ],
   "metadata": {
    "collapsed": false,
    "ExecuteTime": {
     "end_time": "2023-11-07T00:26:36.620658Z",
     "start_time": "2023-11-07T00:26:36.618191Z"
    }
   },
   "id": "initial_id"
  },
  {
   "cell_type": "code",
   "execution_count": 63,
   "outputs": [
    {
     "name": "stdout",
     "output_type": "stream",
     "text": [
      "['reading', 'book', '.', 'love', 'read', 'books', '!']\n",
      "['i', 'am', 'a', 'now', 'i', 'to']\n"
     ]
    }
   ],
   "source": [
    "stop_words = set(stopwords.words('english'))\n",
    "\n",
    "filtered_tokens = [token for token in tokens if token.lower() not in stop_words]\n",
    "filtered_stop_words = [token for token in tokens if token.lower() in stop_words]\n",
    "\n",
    "print(filtered_tokens)\n",
    "print(filtered_stop_words)"
   ],
   "metadata": {
    "collapsed": false,
    "ExecuteTime": {
     "end_time": "2023-11-07T00:26:36.622561Z",
     "start_time": "2023-11-07T00:26:36.620114Z"
    }
   },
   "id": "ccd04baec5caa0d2"
  },
  {
   "cell_type": "code",
   "execution_count": 64,
   "outputs": [
    {
     "name": "stdout",
     "output_type": "stream",
     "text": [
      "['read', 'book', '.', 'love', 'read', 'book', '!']\n"
     ]
    }
   ],
   "source": [
    "stemmer = PorterStemmer()\n",
    "stemmed_tokens = [stemmer.stem(token) for token in filtered_tokens]\n",
    "print(stemmed_tokens)"
   ],
   "metadata": {
    "collapsed": false,
    "ExecuteTime": {
     "end_time": "2023-11-07T00:26:36.627683Z",
     "start_time": "2023-11-07T00:26:36.623119Z"
    }
   },
   "id": "6b2b45795da3a522"
  },
  {
   "cell_type": "code",
   "execution_count": 65,
   "outputs": [
    {
     "name": "stdout",
     "output_type": "stream",
     "text": [
      "[2, 2, 1, 1, 2, 2, 1]\n",
      "['read', 'book', 'read', 'book']\n"
     ]
    }
   ],
   "source": [
    "freq_dist = FreqDist(stemmed_tokens)\n",
    "freq_dist_ = [freq_dist[token] for token in stemmed_tokens]\n",
    "print(freq_dist_)\n",
    "threshold = 2\n",
    "common_tokens = [token for token in stemmed_tokens if freq_dist[token] == threshold]\n",
    "\n",
    "print(common_tokens)\n"
   ],
   "metadata": {
    "collapsed": false,
    "ExecuteTime": {
     "end_time": "2023-11-07T00:26:36.628309Z",
     "start_time": "2023-11-07T00:26:36.626289Z"
    }
   },
   "id": "dd61091a5ebf4436"
  },
  {
   "cell_type": "code",
   "execution_count": 66,
   "outputs": [],
   "source": [
    "# text = \"In the city of Dataville, a data analyst named Alex explores hidden insights within vast data. With determination, Alex uncovers patterns, cleanses the data, and unlocks innovation. Join this adventure to unleash the power of data-driven decisions.\"\n",
    "# \n",
    "# # Initialize the tokenizer and tokenize the text\n",
    "# tokenizer = get_tokenizer(\"basic_english\")\n",
    "# tokens = tokenizer(text)\n",
    "# \n",
    "# threshold = 1\n",
    "# # Remove rare words and print common tokens\n",
    "# freq_dist = FreqDist(tokens)\n",
    "# print(freq_dist)\n",
    "# # common_tokens = [token for token in tokens if freq_dist[token] > 1]\n",
    "# common_tokens = [freq_dist[token] for token in tokens]\n",
    "# print(common_tokens)"
   ],
   "metadata": {
    "collapsed": false,
    "ExecuteTime": {
     "end_time": "2023-11-07T00:26:36.633088Z",
     "start_time": "2023-11-07T00:26:36.628353Z"
    }
   },
   "id": "e686e039a2038098"
  },
  {
   "cell_type": "code",
   "execution_count": 69,
   "outputs": [
    {
     "name": "stdout",
     "output_type": "stream",
     "text": [
      "tensor([[1., 0., 0., 0.],\n",
      "        [0., 1., 0., 0.],\n",
      "        [0., 0., 1., 0.],\n",
      "        [0., 0., 0., 1.]])\n",
      "{'cat': tensor([1., 0., 0., 0.]), 'dog': tensor([0., 1., 0., 0.]), 'rabbit': tensor([0., 0., 0., 1.])}\n"
     ]
    }
   ],
   "source": [
    "vocab = ['cat', 'dog', 'rabbit', 'rabbit']\n",
    "vocab_size = len(vocab)\n",
    "one_hot_vectors = torch.eye(vocab_size)\n",
    "print(one_hot_vectors)\n",
    "one_hot_dict = {word: one_hot_vectors[i] for i, word in enumerate(vocab)}\n",
    "print(one_hot_dict)"
   ],
   "metadata": {
    "collapsed": false,
    "ExecuteTime": {
     "end_time": "2023-11-07T00:30:43.911124Z",
     "start_time": "2023-11-07T00:30:43.898257Z"
    }
   },
   "id": "693c3a54053bb739"
  },
  {
   "cell_type": "code",
   "execution_count": null,
   "outputs": [],
   "source": [],
   "metadata": {
    "collapsed": false
   },
   "id": "66ab2c2e168b0c1e"
  }
 ],
 "metadata": {
  "kernelspec": {
   "display_name": "Python 3",
   "language": "python",
   "name": "python3"
  },
  "language_info": {
   "codemirror_mode": {
    "name": "ipython",
    "version": 2
   },
   "file_extension": ".py",
   "mimetype": "text/x-python",
   "name": "python",
   "nbconvert_exporter": "python",
   "pygments_lexer": "ipython2",
   "version": "2.7.6"
  }
 },
 "nbformat": 4,
 "nbformat_minor": 5
}
