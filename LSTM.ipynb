{
 "cells": [
  {
   "cell_type": "code",
   "execution_count": 15,
   "id": "initial_id",
   "metadata": {
    "collapsed": true,
    "ExecuteTime": {
     "end_time": "2023-11-05T05:00:31.835769Z",
     "start_time": "2023-11-05T05:00:31.499310Z"
    }
   },
   "outputs": [],
   "source": [
    "import torch\n",
    "import torch.nn as nn\n",
    "from torch.utils.data import TensorDataset\n",
    "import numpy as np\n",
    "import pandas as pd\n",
    "import torch.optim as optim\n",
    "from torch.utils.data import Dataset, DataLoader\n",
    "import torchmetrics\n"
   ]
  },
  {
   "cell_type": "code",
   "execution_count": 16,
   "outputs": [],
   "source": [
    "def create_sequences(df, seq_length):\n",
    "    xs, ys = [], []\n",
    "    # Iterate over data indices\n",
    "    for i in range(len(df) - seq_length):\n",
    "      \t# Define inputs\n",
    "        x = df.iloc[i:(i+seq_length), 1]\n",
    "        # Define target\n",
    "        y = df.iloc[i+seq_length, 1]\n",
    "        xs.append(x)\n",
    "        ys.append(y)\n",
    "    return np.array(xs), np.array(ys)"
   ],
   "metadata": {
    "collapsed": false,
    "ExecuteTime": {
     "end_time": "2023-11-05T05:00:31.867570Z",
     "start_time": "2023-11-05T05:00:31.866445Z"
    }
   },
   "id": "9ba3d0362462584d"
  },
  {
   "cell_type": "code",
   "execution_count": 17,
   "outputs": [
    {
     "name": "stdout",
     "output_type": "stream",
     "text": [
      "(105119, 96) (105119,)\n",
      "105119\n"
     ]
    }
   ],
   "source": [
    "train_data = pd.read_csv(\"electricity_consump/electricity_train.csv\")\n",
    "\n",
    "# Use create_sequences to create inputs and targets\n",
    "X_train, y_train = create_sequences(train_data, 24*4)\n",
    "print(X_train.shape, y_train.shape)\n",
    "\n",
    "# Create TensorDataset\n",
    "dataset_train = TensorDataset(\n",
    "    torch.from_numpy(X_train).float(),\n",
    "    torch.from_numpy(y_train).float(),\n",
    ")\n",
    "print(len(dataset_train))\n",
    "\n",
    "dataloader_train = DataLoader(\n",
    "  dataset_train, shuffle=True, batch_size=16\n",
    ")"
   ],
   "metadata": {
    "collapsed": false,
    "ExecuteTime": {
     "end_time": "2023-11-05T05:00:36.088179Z",
     "start_time": "2023-11-05T05:00:31.866981Z"
    }
   },
   "id": "cb8e5a4abbf0d7cd"
  },
  {
   "cell_type": "code",
   "execution_count": 18,
   "outputs": [
    {
     "name": "stdout",
     "output_type": "stream",
     "text": [
      "(34944, 96) (34944,)\n",
      "34944\n"
     ]
    }
   ],
   "source": [
    "test_data = pd.read_csv(\"electricity_consump/electricity_test.csv\")\n",
    "\n",
    "# Use create_sequences to create inputs and targets\n",
    "X_test, y_test = create_sequences(test_data, 24*4)\n",
    "print(X_test.shape, y_test.shape)\n",
    "\n",
    "# Create TensorDataset\n",
    "dataset_test = TensorDataset(\n",
    "    torch.from_numpy(X_test).float(),\n",
    "    torch.from_numpy(y_test).float(),\n",
    ")\n",
    "print(len(dataset_test))\n",
    "\n",
    "dataloader_test = DataLoader(\n",
    "  dataset_test, shuffle=True, batch_size=16\n",
    ")"
   ],
   "metadata": {
    "collapsed": false,
    "ExecuteTime": {
     "end_time": "2023-11-05T05:00:37.355486Z",
     "start_time": "2023-11-05T05:00:36.087298Z"
    }
   },
   "id": "97c6a723034ffe41"
  },
  {
   "cell_type": "code",
   "execution_count": 19,
   "outputs": [],
   "source": [
    "# class Net(nn.Module):\n",
    "#     def __init__(self):\n",
    "#         super().__init__()\n",
    "#         # Define RNN layer\n",
    "#         self.rnn = nn.RNN(\n",
    "#             input_size=1,\n",
    "#             hidden_size=32,\n",
    "#             num_layers=2,\n",
    "#             batch_first=True,\n",
    "#         )\n",
    "#         self.fc = nn.Linear(32, 1)\n",
    "# \n",
    "#     def forward(self, x):\n",
    "#         # Initialize first hidden state with zeros\n",
    "#         h0 = torch.zeros(2, x.size(0), 32)\n",
    "#         # Pass x and h0 through recurrent layer\n",
    "#         out, _ = self.rnn(x, h0)  \n",
    "#         # Pass recurrent layer's last output through linear layer\n",
    "#         out = self.fc(out[:, -1, :])\n",
    "#         return out"
   ],
   "metadata": {
    "collapsed": false,
    "ExecuteTime": {
     "end_time": "2023-11-05T05:00:37.357540Z",
     "start_time": "2023-11-05T05:00:37.352613Z"
    }
   },
   "id": "f2cfdd2332152a0"
  },
  {
   "cell_type": "code",
   "execution_count": 20,
   "outputs": [],
   "source": [
    "class Net(nn.Module):\n",
    "    def __init__(self, input_size):\n",
    "        super().__init__()\n",
    "        # Define lstm layer\n",
    "        self.lstm = nn.LSTM(\n",
    "            input_size=1,\n",
    "            hidden_size=32,\n",
    "            num_layers=2,\n",
    "            batch_first=True,\n",
    "        )\n",
    "        self.fc = nn.Linear(32, 1)\n",
    "\n",
    "    def forward(self, x):\n",
    "        h0 = torch.zeros(2, x.size(0), 32)\n",
    "        # Initialize long-term memory\n",
    "        c0 = torch.zeros(2, x.size(0), 32)\n",
    "        # Pass all inputs to lstm layer\n",
    "        out, _ = self.lstm(x, (h0, c0))\n",
    "        out = self.fc(out[:, -1, :])\n",
    "        return out"
   ],
   "metadata": {
    "collapsed": false,
    "ExecuteTime": {
     "end_time": "2023-11-05T05:00:37.358140Z",
     "start_time": "2023-11-05T05:00:37.356249Z"
    }
   },
   "id": "5534d286b0911312"
  },
  {
   "cell_type": "code",
   "execution_count": 21,
   "outputs": [],
   "source": [
    "# class Net(nn.Module):\n",
    "#     def __init__(self):\n",
    "#         super().__init__()\n",
    "#         # Define RNN layer\n",
    "#         self.gru = nn.GRU(\n",
    "#             input_size=1,\n",
    "#             hidden_size=32,\n",
    "#             num_layers=2,\n",
    "#             batch_first=True,\n",
    "#         )\n",
    "#         self.fc = nn.Linear(32, 1)\n",
    "# \n",
    "#     def forward(self, x):\n",
    "#         h0 = torch.zeros(2, x.size(0), 32)\n",
    "#         out, _ = self.gru(x, h0)  \n",
    "#         out = self.fc(out[:, -1, :])\n",
    "#         return out"
   ],
   "metadata": {
    "collapsed": false,
    "ExecuteTime": {
     "end_time": "2023-11-05T05:00:37.364025Z",
     "start_time": "2023-11-05T05:00:37.358857Z"
    }
   },
   "id": "c6d9b11db177aee2"
  },
  {
   "cell_type": "code",
   "execution_count": 22,
   "outputs": [
    {
     "name": "stderr",
     "output_type": "stream",
     "text": [
      "/Users/kawsar/anaconda3/envs/python_3_10/lib/python3.10/site-packages/torch/nn/modules/loss.py:536: UserWarning: Using a target size (torch.Size([16])) that is different to the input size (torch.Size([16, 1])). This will likely lead to incorrect results due to broadcasting. Please ensure they have the same size.\n",
      "  return F.mse_loss(input, target, reduction=self.reduction)\n"
     ]
    },
    {
     "ename": "RuntimeError",
     "evalue": "shape '[16, 96, 1]' is invalid for input of size 1440",
     "output_type": "error",
     "traceback": [
      "\u001B[0;31m---------------------------------------------------------------------------\u001B[0m",
      "\u001B[0;31mRuntimeError\u001B[0m                              Traceback (most recent call last)",
      "Cell \u001B[0;32mIn[22], line 11\u001B[0m\n\u001B[1;32m      8\u001B[0m \u001B[38;5;28;01mfor\u001B[39;00m epoch \u001B[38;5;129;01min\u001B[39;00m \u001B[38;5;28mrange\u001B[39m(\u001B[38;5;241m3\u001B[39m):\n\u001B[1;32m      9\u001B[0m     \u001B[38;5;28;01mfor\u001B[39;00m seqs, labels \u001B[38;5;129;01min\u001B[39;00m dataloader_train:\n\u001B[1;32m     10\u001B[0m         \u001B[38;5;66;03m# Reshape model inputs\u001B[39;00m\n\u001B[0;32m---> 11\u001B[0m         seqs \u001B[38;5;241m=\u001B[39m \u001B[43mseqs\u001B[49m\u001B[38;5;241;43m.\u001B[39;49m\u001B[43mview\u001B[49m\u001B[43m(\u001B[49m\u001B[38;5;241;43m16\u001B[39;49m\u001B[43m,\u001B[49m\u001B[43m \u001B[49m\u001B[38;5;241;43m96\u001B[39;49m\u001B[43m,\u001B[49m\u001B[43m \u001B[49m\u001B[38;5;241;43m1\u001B[39;49m\u001B[43m)\u001B[49m\n\u001B[1;32m     12\u001B[0m         \u001B[38;5;66;03m# Get model outputs\u001B[39;00m\n\u001B[1;32m     13\u001B[0m         outputs \u001B[38;5;241m=\u001B[39m net(seqs)\n",
      "\u001B[0;31mRuntimeError\u001B[0m: shape '[16, 96, 1]' is invalid for input of size 1440"
     ]
    }
   ],
   "source": [
    "net = Net(input_size=1)\n",
    "# Set up MSE loss\n",
    "criterion = nn.MSELoss()\n",
    "optimizer = optim.Adam(\n",
    "  net.parameters(), lr=0.0001\n",
    ")\n",
    "\n",
    "for epoch in range(3):\n",
    "    for seqs, labels in dataloader_train:\n",
    "        # Reshape model inputs\n",
    "        seqs = seqs.view(16, 96, 1)\n",
    "        # Get model outputs\n",
    "        outputs = net(seqs)\n",
    "        # Compute loss\n",
    "        loss = criterion(outputs, labels)\n",
    "        optimizer.zero_grad()\n",
    "        loss.backward()\n",
    "        optimizer.step()\n",
    "    print(f\"Epoch {epoch+1}, Loss: {loss.item()}\")"
   ],
   "metadata": {
    "collapsed": false,
    "ExecuteTime": {
     "end_time": "2023-11-05T05:02:26.640006Z",
     "start_time": "2023-11-05T05:00:37.361914Z"
    }
   },
   "id": "25a622b75080dc23"
  },
  {
   "cell_type": "code",
   "execution_count": null,
   "outputs": [],
   "source": [
    "# Define MSE metric\n",
    "mse = torchmetrics.MeanSquaredError()\n",
    "\n",
    "net.eval()\n",
    "with torch.no_grad():\n",
    "    for seqs, labels in dataloader_test:\n",
    "        seqs = seqs.view(32, 96, 1)\n",
    "        # Pass seqs to net and squeeze the result\n",
    "        outputs = net(seqs).squeeze()\n",
    "        mse(outputs, labels)\n",
    "\n",
    "# Compute final metric value\n",
    "test_mse = mse.compute()\n",
    "print(f\"Test MSE: {test_mse}\")"
   ],
   "metadata": {
    "collapsed": false,
    "ExecuteTime": {
     "end_time": "2023-11-05T05:02:26.641415Z",
     "start_time": "2023-11-05T05:02:26.640359Z"
    }
   },
   "id": "b72812bba8ea944"
  },
  {
   "cell_type": "code",
   "execution_count": null,
   "outputs": [],
   "source": [],
   "metadata": {
    "collapsed": false,
    "ExecuteTime": {
     "start_time": "2023-11-05T05:02:26.641329Z"
    }
   },
   "id": "4fd8bdd22d9fa63"
  }
 ],
 "metadata": {
  "kernelspec": {
   "display_name": "Python 3",
   "language": "python",
   "name": "python3"
  },
  "language_info": {
   "codemirror_mode": {
    "name": "ipython",
    "version": 2
   },
   "file_extension": ".py",
   "mimetype": "text/x-python",
   "name": "python",
   "nbconvert_exporter": "python",
   "pygments_lexer": "ipython2",
   "version": "2.7.6"
  }
 },
 "nbformat": 4,
 "nbformat_minor": 5
}
