{
 "cells": [
  {
   "cell_type": "code",
   "execution_count": 37,
   "id": "initial_id",
   "metadata": {
    "collapsed": true,
    "ExecuteTime": {
     "end_time": "2023-11-04T07:41:46.003563Z",
     "start_time": "2023-11-04T07:41:45.925474Z"
    }
   },
   "outputs": [],
   "source": [
    "import pandas as pd\n",
    "from torch.utils.data import Dataset, DataLoader\n",
    "import torch\n",
    "import torch.nn as nn\n",
    "import torch.nn.functional as F\n",
    "import torch.optim as optim\n",
    "from torchmetrics import Accuracy\n",
    "import torch.nn.init as init\n"
   ]
  },
  {
   "cell_type": "code",
   "execution_count": 38,
   "outputs": [],
   "source": [
    "class WaterDataset(Dataset):\n",
    "    def __init__(self, csv_path):\n",
    "        super().__init__()\n",
    "        # Load data to pandas DataFrame\n",
    "        df = pd.read_csv(csv_path)\n",
    "        # Convert data to a NumPy array and assign to self.data\n",
    "        self.data = df.to_numpy()\n",
    "        \n",
    "    # Implement __len__ to return the number of data samples\n",
    "    def __len__(self):\n",
    "        return self.data.shape[0]\n",
    "    \n",
    "    def __getitem__(self, idx):\n",
    "        features = self.data[idx, :-1]\n",
    "        # Assign last data column to label\n",
    "        label = self.data[idx, -1]\n",
    "        return features, label\n",
    "    "
   ],
   "metadata": {
    "collapsed": false,
    "ExecuteTime": {
     "end_time": "2023-11-04T07:41:46.047884Z",
     "start_time": "2023-11-04T07:41:45.935838Z"
    }
   },
   "id": "ee31f9f1de832eec"
  },
  {
   "cell_type": "code",
   "execution_count": 39,
   "outputs": [
    {
     "name": "stdout",
     "output_type": "stream",
     "text": [
      "tensor([[0.4605, 0.5546, 0.5128, 0.4579, 0.5644, 0.1930, 0.4096, 0.4953, 0.5461],\n",
      "        [0.4597, 0.3738, 0.5402, 0.6358, 0.4077, 0.6017, 0.3531, 0.6505, 0.5484]],\n",
      "       dtype=torch.float64) tensor([1., 1.], dtype=torch.float64)\n"
     ]
    }
   ],
   "source": [
    "# Create an instance of the WaterDataset\n",
    "dataset_train = WaterDataset(\"water_train.csv\")\n",
    "\n",
    "# Create a DataLoader based on dataset_train\n",
    "dataloader_train = DataLoader(\n",
    "    dataset_train,\n",
    "    batch_size=2,\n",
    "    shuffle=True,\n",
    ")\n",
    "\n",
    "# Get a batch of features and labels\n",
    "features, labels = next(iter(dataloader_train))\n",
    "print(features, labels)"
   ],
   "metadata": {
    "collapsed": false,
    "ExecuteTime": {
     "end_time": "2023-11-04T07:41:46.049345Z",
     "start_time": "2023-11-04T07:41:45.936043Z"
    }
   },
   "id": "d6272aad3d655dd4"
  },
  {
   "cell_type": "code",
   "execution_count": 40,
   "outputs": [],
   "source": [
    "# class Net(nn.Module):\n",
    "#     def __init__(self):\n",
    "#         super(Net, self).__init__()\n",
    "#         # Define the three linear layers\n",
    "#         self.fc1 = nn.Linear(9, 16)\n",
    "#         self.fc2 = nn.Linear(16, 8)\n",
    "#         self.fc3 = nn.Linear(8, 1)\n",
    "#         \n",
    "#     def forward(self, x):\n",
    "#         # Pass x through linear layers adding activations\n",
    "#         x = nn.functional.relu(self.fc1(x))\n",
    "#         x = nn.functional.relu(self.fc2(x))\n",
    "#         x = nn.functional.sigmoid(self.fc3(x))\n",
    "#         return x\n",
    "    \n",
    "    \n",
    "# class Net(nn.Module):\n",
    "#     def __init__(self):\n",
    "#         super(Net, self).__init__()\n",
    "#         self.fc1 = nn.Linear(9, 16)\n",
    "#         self.fc2 = nn.Linear(16, 8)\n",
    "#         self.fc3 = nn.Linear(8, 1)\n",
    "#         \n",
    "#         # Apply He initialization\n",
    "#         init.kaiming_uniform_(self.fc1.weight)\n",
    "#         init.kaiming_uniform_(self.fc2.weight)\n",
    "#         init.kaiming_uniform_(self.fc3.weight, nonlinearity=\"sigmoid\")\n",
    "# \n",
    "#     def forward(self, x):\n",
    "#         # Update ReLU activation to ELU\n",
    "#         x = nn.functional.elu(self.fc1(x))\n",
    "#         x = nn.functional.elu(self.fc2(x))\n",
    "#         x = nn.functional.sigmoid(self.fc3(x))\n",
    "#         return x\n",
    "    \n",
    "class Net(nn.Module):\n",
    "    def __init__(self):\n",
    "        super(Net, self).__init__()\n",
    "        self.fc1 = nn.Linear(9, 16)\n",
    "        self.fc2 = nn.Linear(16, 8)\n",
    "        self.fc3 = nn.Linear(8, 1)\n",
    "        # Add two batch normalization layers\n",
    "        self.bn1 = nn.BatchNorm1d(16)\n",
    "        self.bn2 = nn.BatchNorm1d(8)\n",
    "        \n",
    "        init.kaiming_uniform_(self.fc1.weight)\n",
    "        init.kaiming_uniform_(self.fc2.weight)\n",
    "        init.kaiming_uniform_(self.fc3.weight, nonlinearity=\"sigmoid\") \n",
    "    \n",
    "    def forward(self, x):\n",
    "        x = self.fc1(x)\n",
    "        x = self.bn1(x)\n",
    "        x = nn.functional.elu(x)\n",
    "\n",
    "        # Pass x through the second set of layers\n",
    "        x = self.fc2(x)\n",
    "        x = self.bn2(x)\n",
    "        x = nn.functional.elu(x)\n",
    "\n",
    "        x = nn.functional.sigmoid(self.fc3(x))\n",
    "        return x"
   ],
   "metadata": {
    "collapsed": false,
    "ExecuteTime": {
     "end_time": "2023-11-04T07:41:46.053168Z",
     "start_time": "2023-11-04T07:41:45.936236Z"
    }
   },
   "id": "ed621fe3ee43f61"
  },
  {
   "cell_type": "code",
   "execution_count": 41,
   "outputs": [],
   "source": [
    "criterion = nn.BCELoss()\n",
    "\n",
    "net = Net()\n",
    "optimizer = optim.SGD(net.parameters(), lr=0.01)\n",
    "\n",
    "for epoch in range(1000):\n",
    "    for features, labels in dataloader_train:\n",
    "        optimizer.zero_grad()\n",
    "        features = features.float()\n",
    "        outputs = net(features)\n",
    "        labels = labels.float()\n",
    "        loss = criterion(outputs, labels.view(-1, 1))\n",
    "        loss.backward()\n",
    "        optimizer.step()"
   ],
   "metadata": {
    "collapsed": false,
    "ExecuteTime": {
     "end_time": "2023-11-04T07:47:45.411348Z",
     "start_time": "2023-11-04T07:41:45.958212Z"
    }
   },
   "id": "c41f5b641cb59585"
  },
  {
   "cell_type": "code",
   "execution_count": 42,
   "outputs": [
    {
     "name": "stdout",
     "output_type": "stream",
     "text": [
      "tensor([[0.4728, 0.3403, 0.5453, 0.4390, 0.6652, 0.4054, 0.3811, 0.5353, 0.7462],\n",
      "        [0.6476, 0.5668, 0.2065, 0.4976, 0.5987, 0.5910, 0.6480, 0.3384, 0.4647]],\n",
      "       dtype=torch.float64) tensor([0., 0.], dtype=torch.float64)\n",
      "Test accuracy: 0.5904572606086731\n"
     ]
    }
   ],
   "source": [
    "# Create an instance of the WaterDataset\n",
    "dataset_test = WaterDataset(\"water_test.csv\")\n",
    "\n",
    "# Create a DataLoader based on dataset_train\n",
    "dataloader_test = DataLoader(\n",
    "    dataset_test,\n",
    "    batch_size=2,\n",
    "    shuffle=True,\n",
    ")\n",
    "\n",
    "# Get a batch of features and labels\n",
    "features_test, labels_test = next(iter(dataloader_test))\n",
    "print(features_test, labels_test)\n",
    "\n",
    "# Set up binary accuracy metric\n",
    "acc = Accuracy(task=\"binary\")\n",
    "\n",
    "net.eval()\n",
    "with torch.no_grad():\n",
    "    for features, labels in dataloader_test:\n",
    "        # Get predicted probabilities for test data batch\n",
    "        features = features.float()\n",
    "        labels = labels.float()\n",
    "        outputs = net(features)\n",
    "        preds = (outputs >= 0.5).float()\n",
    "        acc(preds, labels.view(-1, 1))\n",
    "\n",
    "# Compute total test accuracy\n",
    "test_accuracy = acc.compute()\n",
    "print(f\"Test accuracy: {test_accuracy}\")"
   ],
   "metadata": {
    "collapsed": false,
    "ExecuteTime": {
     "end_time": "2023-11-04T07:47:45.484124Z",
     "start_time": "2023-11-04T07:47:45.405130Z"
    }
   },
   "id": "a4ddab910e2ae4d1"
  },
  {
   "cell_type": "code",
   "execution_count": 42,
   "outputs": [],
   "source": [],
   "metadata": {
    "collapsed": false,
    "ExecuteTime": {
     "end_time": "2023-11-04T07:47:45.484437Z",
     "start_time": "2023-11-04T07:47:45.476797Z"
    }
   },
   "id": "5eda61fe812e60f0"
  }
 ],
 "metadata": {
  "kernelspec": {
   "display_name": "Python 3",
   "language": "python",
   "name": "python3"
  },
  "language_info": {
   "codemirror_mode": {
    "name": "ipython",
    "version": 2
   },
   "file_extension": ".py",
   "mimetype": "text/x-python",
   "name": "python",
   "nbconvert_exporter": "python",
   "pygments_lexer": "ipython2",
   "version": "2.7.6"
  }
 },
 "nbformat": 4,
 "nbformat_minor": 5
}
